{
  "nbformat": 4,
  "nbformat_minor": 0,
  "metadata": {
    "colab": {
      "provenance": []
    },
    "kernelspec": {
      "name": "python3",
      "display_name": "Python 3"
    },
    "language_info": {
      "name": "python"
    }
  },
  "cells": [
    {
      "cell_type": "code",
      "source": [
        "import pandas as pd\n",
        "\n",
        "class DataSetLoader:\n",
        "    def __init__(self, file_path):\n",
        "        self.file_path = file_path\n",
        "        self.data = self.load_data()\n",
        "\n",
        "    def load_data(self):\n",
        "        try:\n",
        "            data = pd.read_csv(self.file_path)\n",
        "            return data\n",
        "        except FileNotFoundError:\n",
        "            print(f\"El archivo {self.file_path} no se encontró.\")\n",
        "            return None\n",
        "\n",
        "    def display_data(self):\n",
        "        if self.data is not None:\n",
        "            print(self.data.head())\n",
        "        else:\n",
        "            print(\"No se cargaron datos.\")\n",
        "\n",
        "# Uso de la clase para cargar datos del archivo iris.csv\n",
        "if __name__ == \"__main__\":\n",
        "    dataset_loader = DataSetLoader(\"iris.csv\")\n",
        "    dataset_loader.display_data()\n",
        "\n",
        "\n",
        "\n",
        "\n"
      ],
      "metadata": {
        "colab": {
          "base_uri": "https://localhost:8080/"
        },
        "id": "V0SLl4IX8lTy",
        "outputId": "6209e396-7f37-4503-83f2-82bff6bc65b2"
      },
      "execution_count": 14,
      "outputs": [
        {
          "output_type": "stream",
          "name": "stdout",
          "text": [
            "                  ,\"SepalLength\",\"SepalWidth\",\"PetalLength\",\"PetalWidth\",\"Species\"\n",
            "1 5.1 3.5 1.4 0.2                                             setosa              \n",
            "2 4.9 3.0 1.4 0.2                                             setosa              \n",
            "3 4.7 3.2 1.3 0.2                                             setosa              \n",
            "4 4.6 3.1 1.5 0.2                                             setosa              \n",
            "5 5.0 3.6 1.4 0.2                                             setosa              \n"
          ]
        }
      ]
    },
    {
      "cell_type": "code",
      "source": [
        "import pandas as pd\n",
        "\n",
        "class DataSetAnalyzer:\n",
        "    def __init__(self, file_path):\n",
        "        self.file_path = file_path\n",
        "        self.data = self.load_data()\n",
        "\n",
        "    def load_data(self):\n",
        "        try:\n",
        "            data = pd.read_csv(self.file_path)\n",
        "            return data\n",
        "        except FileNotFoundError:\n",
        "            print(f\"El archivo {self.file_path} no se encontró.\")\n",
        "            return None\n",
        "\n",
        "    def display_data(self):\n",
        "        if self.data is not None:\n",
        "            print(self.data.head())\n",
        "        else:\n",
        "            print(\"No se cargaron datos.\")\n",
        "\n",
        "    def calculate_statistics(self):\n",
        "        if self.data is not None:\n",
        "            statistics = self.data.describe(include='all')\n",
        "            return statistics\n",
        "        else:\n",
        "            print(\"No se pueden calcular estadísticas porque no se cargaron datos.\")\n",
        "            return None\n",
        "\n",
        "# Uso de la clase para cargar datos del archivo iris.csv y calcular estadísticas\n",
        "if __name__ == \"__main__\":\n",
        "    dataset_analyzer = DataSetAnalyzer(\"iris.csv\")\n",
        "    dataset_analyzer.display_data()\n",
        "\n",
        "    statistics = dataset_analyzer.calculate_statistics()\n",
        "\n",
        "    if statistics is not None:\n",
        "        print(\"\\nEstadísticas descriptivas básicas:\")\n",
        "        print(statistics)\n"
      ],
      "metadata": {
        "colab": {
          "base_uri": "https://localhost:8080/"
        },
        "id": "sgJAhmJR_Rl7",
        "outputId": "62c21969-ab05-42b9-aa0f-c438b90be5c8"
      },
      "execution_count": 26,
      "outputs": [
        {
          "output_type": "stream",
          "name": "stdout",
          "text": [
            "                  ,\"SepalLength\",\"SepalWidth\",\"PetalLength\",\"PetalWidth\",\"Species\"\n",
            "1 5.1 3.5 1.4 0.2                                             setosa              \n",
            "2 4.9 3.0 1.4 0.2                                             setosa              \n",
            "3 4.7 3.2 1.3 0.2                                             setosa              \n",
            "4 4.6 3.1 1.5 0.2                                             setosa              \n",
            "5 5.0 3.6 1.4 0.2                                             setosa              \n",
            "\n",
            "Estadísticas descriptivas básicas:\n",
            "       ,\"SepalLength\",\"SepalWidth\",\"PetalLength\",\"PetalWidth\",\"Species\"\n",
            "count                                                 150              \n",
            "unique                                                  3              \n",
            "top                                                setosa              \n",
            "freq                                                   50              \n"
          ]
        }
      ]
    },
    {
      "cell_type": "code",
      "source": [
        "import pandas as pd\n",
        "import matplotlib.pyplot as plt\n",
        "\n",
        "class DataSetAnalyzer:\n",
        "    def __init__(self, file_path):\n",
        "        self.file_path = file_path\n",
        "        self.data = self.load_data()\n",
        "\n",
        "    def load_data(self):\n",
        "        try:\n",
        "            data = pd.read_csv(self.file_path)\n",
        "            return data\n",
        "        except FileNotFoundError:\n",
        "            print(f\"El archivo {self.file_path} no se encontró.\")\n",
        "            return None\n",
        "\n",
        "    def display_data(self):\n",
        "        if self.data is not None:\n",
        "            print(self.data.head())\n",
        "        else:\n",
        "            print(\"No se cargaron datos.\")\n",
        "\n",
        "    def calculate_statistics(self):\n",
        "        if self.data is not None:\n",
        "            statistics = self.data.describe(include='all')\n",
        "            return statistics\n",
        "        else:\n",
        "            print(\"No se pueden calcular estadísticas porque no se cargaron datos.\")\n",
        "            return None\n",
        "\n",
        "    def get_variable_names(self):\n",
        "        if self.data is not None:\n",
        "            return self.data.columns.tolist()\n",
        "        else:\n",
        "            print(\"No se pueden obtener los nombres de las variables porque no se cargaron datos.\")\n",
        "            return None\n",
        "\n",
        "    def analyze_variable(self, variable_name):\n",
        "        if self.data is not None and variable_name in self.data.columns:\n",
        "            variable_data = self.data[variable_name]\n",
        "            mean = variable_data.mean()\n",
        "            median = variable_data.median()\n",
        "            std_deviation = variable_data.std()\n",
        "            q25 = variable_data.quantile(0.25)\n",
        "            q50 = variable_data.quantile(0.50)\n",
        "            q75 = variable_data.quantile(0.75)\n",
        "\n",
        "            # Dibujar un histograma\n",
        "            plt.figure(figsize=(8, 6))\n",
        "            plt.hist(variable_data, bins=20, color='blue', alpha=0.7)\n",
        "            plt.xlabel(variable_name)\n",
        "            plt.ylabel('Frecuencia')\n",
        "            plt.title(f'Histograma de {variable_name}')\n",
        "            plt.grid(True)\n",
        "            plt.show()\n",
        "\n",
        "            print(f\"Estadísticas para '{variable_name}':\")\n",
        "            print(f\"Media: {mean}\")\n",
        "            print(f\"Mediana: {median}\")\n",
        "            print(f\"Desviación Estándar: {std_deviation}\")\n",
        "            print(f\"Percentil 25: {q25}\")\n",
        "            print(f\"Percentil 50 (Mediana): {q50}\")\n",
        "            print(f\"Percentil 75: {q75}\")\n",
        "        else:\n",
        "            print(f\"No se pueden analizar '{variable_name}' porque no existe en los datos.\")\n",
        "\n",
        "# Uso de la clase para cargar datos del archivo iris.csv y realizar análisis de variables\n",
        "if __name__ == \"__main__\":\n",
        "    dataset_analyzer = DataSetAnalyzer(\"iris.csv\")\n",
        "    dataset_analyzer.display_data()\n",
        "\n",
        "    variable_names = dataset_analyzer.get_variable_names()\n",
        "    if variable_names is not None:\n",
        "        print(\"\\nNombres de las variables disponibles:\")\n",
        "        print(variable_names)\n",
        "\n",
        "    variable_to_analyze = \"SepalLength\"  # Cambia el nombre de la variable según tus necesidades\n",
        "    dataset_analyzer.analyze_variable(variable_to_analyze)\n"
      ],
      "metadata": {
        "colab": {
          "base_uri": "https://localhost:8080/"
        },
        "id": "A3ZYa4YdAkzp",
        "outputId": "98ff22dd-7830-49e6-e61a-d99fd5a397fb"
      },
      "execution_count": 27,
      "outputs": [
        {
          "output_type": "stream",
          "name": "stdout",
          "text": [
            "                  ,\"SepalLength\",\"SepalWidth\",\"PetalLength\",\"PetalWidth\",\"Species\"\n",
            "1 5.1 3.5 1.4 0.2                                             setosa              \n",
            "2 4.9 3.0 1.4 0.2                                             setosa              \n",
            "3 4.7 3.2 1.3 0.2                                             setosa              \n",
            "4 4.6 3.1 1.5 0.2                                             setosa              \n",
            "5 5.0 3.6 1.4 0.2                                             setosa              \n",
            "\n",
            "Nombres de las variables disponibles:\n",
            "[',\"SepalLength\",\"SepalWidth\",\"PetalLength\",\"PetalWidth\",\"Species\"']\n",
            "No se pueden analizar 'SepalLength' porque no existe en los datos.\n"
          ]
        }
      ]
    }
  ]
}